{
  "nbformat": 4,
  "nbformat_minor": 0,
  "metadata": {
    "colab": {
      "provenance": [],
      "authorship_tag": "ABX9TyMUIlzq0hm95wE+DsNbz3yC",
      "include_colab_link": true
    },
    "kernelspec": {
      "name": "python3",
      "display_name": "Python 3"
    },
    "language_info": {
      "name": "python"
    }
  },
  "cells": [
    {
      "cell_type": "markdown",
      "metadata": {
        "id": "view-in-github",
        "colab_type": "text"
      },
      "source": [
        "<a href=\"https://colab.research.google.com/github/katrinag2004/ds3001assignments/blob/main/linear_models.ipynb\" target=\"_parent\"><img src=\"https://colab.research.google.com/assets/colab-badge.svg\" alt=\"Open In Colab\"/></a>"
      ]
    },
    {
      "cell_type": "code",
      "execution_count": 1,
      "metadata": {
        "colab": {
          "base_uri": "https://localhost:8080/"
        },
        "id": "tHsALnFQJPG7",
        "outputId": "d0df4010-3802-46fa-9f7c-ec011df65cdf"
      },
      "outputs": [
        {
          "output_type": "stream",
          "name": "stdout",
          "text": [
            "Cloning into 'linearModels'...\n",
            "remote: Enumerating objects: 43, done.\u001b[K\n",
            "remote: Counting objects: 100% (8/8), done.\u001b[K\n",
            "remote: Compressing objects: 100% (4/4), done.\u001b[K\n",
            "remote: Total 43 (delta 5), reused 4 (delta 4), pack-reused 35 (from 2)\u001b[K\n",
            "Receiving objects: 100% (43/43), 4.12 MiB | 8.06 MiB/s, done.\n",
            "Resolving deltas: 100% (8/8), done.\n"
          ]
        }
      ],
      "source": [
        "! git clone https://github.com/ds4e/linearModels"
      ]
    },
    {
      "cell_type": "markdown",
      "source": [
        "Q1.\n",
        "\n",
        "**What makes a model \"linear\"? \"Linear\" in what?**\n",
        "In a linear model, the target (response or dependent) variable is estimated using a set of predictor (feature) variables, usually including a constant (intercept or bias) term.\n",
        "\n",
        "**How do you interpret the coefficient for a dummy/one-hot-encoded variable? (This is a trick question, and the trick involves how you handle the intercept of the model.)**\n",
        "\n",
        "If both the intercept and all dummy variables are included, one predictor can be exactly replicated as a combination of the others. This results in perfect multicollinearity, making some coefficients undefined.\n",
        "\n",
        "**Can linear regression be used for classification? Explain why, or why not.**\n",
        "Linear regression can be used for classification, but it is generally not ideal.\n",
        "\n",
        "**What are signs that your linear model is over-fitting?**\n",
        "\n",
        "A test is overfitting if it shows high accuracy on training data but significantly lower accuracy on test data, indicating poor generalization.\n",
        "\n",
        "**Clearly explain multi-colinearity using the two-stage least squares technique.**\n",
        "\n",
        "Multicolinearity occurs when predictor variables are highly correlated, making it difficult to estimate their individual effects and leading to unstable coefficients. 2sls addresses this by replacing an endogenous predictor with an IV that is correlated with the predictor but not with the model's error term. In pt 1 the problematic predictor is regressed on the IV to obtain predicted values, and in pt 2, these predicted values are used in place of the original predictor in the main regression. This reduces multicollinearity and provides more reliable coefficient estimates.\n",
        "\n",
        "**How can you incorporate nonlinear relationships between your target/response/dependent/outcome variable and your features/control/response/independent variables into your analysis?**\n",
        "\n",
        "Nonlinear relationships can be incorporated by adding polynomial terms, using log transformations, including interaction terms, applying spline regression, or employing gams that allow for smooth, nonlinear functions of the predictors. These methods help model more complex relationships between the target and independent variables.\n",
        "\n",
        "**What is the interpretation of the intercept? A slope coefficient for a variable? The coefficient for a dummy/one-hot-encoded variable?**\n",
        "The intercept represents the expected value of the target when all predictors are zero, the slope coefficient shows the expected change in the target for a one-unit increase in a predictor, and the dummy variable coefficient indicates the difference in the target between the dummy's category and the reference category."
      ],
      "metadata": {
        "id": "utZzd83UJinB"
      }
    },
    {
      "cell_type": "code",
      "source": [],
      "metadata": {
        "id": "MM9byBoCOsln"
      },
      "execution_count": null,
      "outputs": []
    }
  ]
}